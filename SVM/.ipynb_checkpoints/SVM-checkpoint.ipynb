{
 "cells": [
  {
   "cell_type": "code",
   "execution_count": 4,
   "metadata": {},
   "outputs": [],
   "source": [
    "import matplotlib.pyplot as plt \n",
    "from matplotlib import style\n",
    "import numpy as np\n",
    "style.use('ggplot')\n",
    "\n",
    "class Support_Vector_Machine:\n",
    "    def __init__(self, visualization = True):\n",
    "        self.visualization = visualization \n",
    "        self.colors = {1: 'r', -1: 'b'}\n",
    "        if self.visualization:\n",
    "            self.fig = plt.figure()\n",
    "            self.ax = self.fig.add_subplot(1,1,1)\n",
    "    def fit(self, data):\n",
    "        self.data = data \n",
    "        opt_dict = {}\n",
    "        transforms = [[1,1],\n",
    "                     [-1, 1],\n",
    "                     [-1, -1],\n",
    "                     [1, -1]]\n",
    "        all_data = []\n",
    "        for yi in self.data:\n",
    "            for featureset in self.data[yi]:\n",
    "                for feature in featureset:\n",
    "                    all_data.append(feature)\n",
    "        self.max_feature_value = max(all_data)\n",
    "        self.min_feature_value = min(all_data)\n",
    "        all_data = None \n",
    "        \n",
    "        step_sizes = [self.max_feature_value * 0.1,\n",
    "                     self.max_feature_value * .01,\n",
    "                     self.max_feature_value * .001]\n",
    "        b_range_multiple = 5\n",
    "        \n",
    "        b_multiple = 5\n",
    "        \n",
    "        latest__optimum = self.max_feature_value * 10\n",
    "        \n",
    "        for step in step_sizes:\n",
    "            w = np.array(latest__optimum, latest__optimum)\n",
    "            optimized = False\n",
    "            while not optimized:\n",
    "                \n",
    "    def predict(self, features):\n",
    "        classification = np.sign(np.dot(np.array(features), self.w) + self.b)\n",
    "        return classification \n",
    "dict = {-1: np.array([[1,7],\n",
    "                     [2, 8],\n",
    "                     [3, 8]]), \n",
    "        1: np.array([[5,1],\n",
    "                    [6,-1],\n",
    "                     [7, 3]])}"
   ]
  },
  {
   "cell_type": "code",
   "execution_count": null,
   "metadata": {},
   "outputs": [],
   "source": []
  }
 ],
 "metadata": {
  "kernelspec": {
   "display_name": "Python 3",
   "language": "python",
   "name": "python3"
  },
  "language_info": {
   "codemirror_mode": {
    "name": "ipython",
    "version": 3
   },
   "file_extension": ".py",
   "mimetype": "text/x-python",
   "name": "python",
   "nbconvert_exporter": "python",
   "pygments_lexer": "ipython3",
   "version": "3.7.3"
  }
 },
 "nbformat": 4,
 "nbformat_minor": 2
}
